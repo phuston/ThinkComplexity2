{
 "cells": [
  {
   "cell_type": "markdown",
   "metadata": {},
   "source": [
    "# NK models of evolution\n",
    "\n",
    "Code examples from [Think Complexity, 2nd edition](http://greenteapress.com/wp/complexity2), Chapter 11\n",
    "\n",
    "Copyright 2016 Allen Downey, [MIT License](http://opensource.org/licenses/MIT)"
   ]
  },
  {
   "cell_type": "code",
   "execution_count": 3,
   "metadata": {
    "collapsed": false
   },
   "outputs": [],
   "source": [
    "from __future__ import print_function, division\n",
    "\n",
    "%matplotlib inline\n",
    "%precision 3\n",
    "\n",
    "import warnings\n",
    "warnings.filterwarnings('ignore')\n",
    "\n",
    "import numpy as np\n",
    "from numpy.random import rand, randint, permutation\n",
    "\n",
    "from thinkstats2 import Cdf\n",
    "from thinkstats2 import RandomSeed\n",
    "\n",
    "import thinkplot\n",
    "\n",
    "from matplotlib import rc\n",
    "rc('animation', html='html5')"
   ]
  },
  {
   "cell_type": "markdown",
   "metadata": {},
   "source": [
    "## The NK landscape\n",
    "\n",
    "Here's an implementation of an NK landscape.\n",
    "\n",
    "A location in the landscape is represented by a NumPy array of N 0s and 1s.\n",
    "\n",
    "The `index` attribute of `NKLandscape` is an array of indices into a location, which is an efficient way to select the overlapping slices.\n",
    "\n",
    "The `cache` attribute is a dictionary that maps from `(i, slice)` to a fitness, where `i` indicates which of the `N` functions we want to evaluate and `slice` is the parameters of the function.\n",
    "\n",
    "The first time we see a particular `(i, slice)` pair, we generate a random fitness value.  The we store it in the `cache` in case we need it again."
   ]
  },
  {
   "cell_type": "code",
   "execution_count": 11,
   "metadata": {
    "collapsed": false
   },
   "outputs": [],
   "source": [
    "class NKLandscape:\n",
    "    def __init__(self, N, K, A=2):\n",
    "        \"\"\"Create a landscape.\n",
    "        \n",
    "        N: number of attributes\n",
    "        K: number of interactions\n",
    "        \n",
    "        index is a NumPy array that specifies the interactions between\n",
    "        attributes. (The K+1 entries in each row identify the attributes\n",
    "        that contribute to the fitness of the row attribute.)\n",
    "        \"\"\"\n",
    "        self.N = N\n",
    "        self.K = K\n",
    "        self.A = A\n",
    "        self.cache = dict()\n",
    "        \n",
    "        iseq = np.array(range(N))\n",
    "        jseq = np.array(range(K+1))\n",
    "        self.index = (iseq[:, None] + jseq[None, :]) % N\n",
    "\n",
    "    def random_loc(self):\n",
    "        \"\"\"Choose a random location.\"\"\"\n",
    "        # in NumPy version 1.11 we can pass dtype to randint\n",
    "        return randint(self.A, size=self.N).astype(np.int8)\n",
    "    \n",
    "    def lookup(self, i, row):\n",
    "        \"\"\"Look up `row` in function `i`.\n",
    "        \n",
    "        i: int from 0 to N-1\n",
    "        row: array of K+1 0s and 1s\n",
    "        \n",
    "        returns: f_i(row)\n",
    "        \"\"\"\n",
    "        key = i, tuple(row)\n",
    "        return self.cache.setdefault(key, rand())\n",
    "    \n",
    "    def fitness(self, loc):\n",
    "        \"\"\"Evaluates the fitness of a location.\n",
    "        \n",
    "        loc: array of N 0s and 1s\n",
    "        \n",
    "        returns: float fitness\n",
    "        \"\"\"\n",
    "        slices = loc[self.index]\n",
    "        fs = [self.lookup(i, row) for i, row in enumerate(slices)]\n",
    "        return np.mean(fs)"
   ]
  },
  {
   "cell_type": "markdown",
   "metadata": {},
   "source": [
    "Here's a small example.  The index shows how the traits are linked.  Trait 0 is linked to traits 1 and 2.  Trait 1 is linked to traits 2 and 3, etc."
   ]
  },
  {
   "cell_type": "code",
   "execution_count": 12,
   "metadata": {
    "collapsed": false,
    "scrolled": true
   },
   "outputs": [
    {
     "data": {
      "text/plain": [
       "array([[0, 1, 2],\n",
       "       [1, 2, 3],\n",
       "       [2, 3, 4],\n",
       "       [3, 4, 0],\n",
       "       [4, 0, 1]])"
      ]
     },
     "execution_count": 12,
     "metadata": {},
     "output_type": "execute_result"
    }
   ],
   "source": [
    "nkland = NKLandscape(5, 2)\n",
    "nkland.index"
   ]
  },
  {
   "cell_type": "markdown",
   "metadata": {},
   "source": [
    "Here's an example that evaluates the fitness at a random location:"
   ]
  },
  {
   "cell_type": "code",
   "execution_count": 13,
   "metadata": {
    "collapsed": false
   },
   "outputs": [
    {
     "data": {
      "text/plain": [
       "(array([0, 0, 1, 0, 1], dtype=int8), 0.243)"
      ]
     },
     "execution_count": 13,
     "metadata": {},
     "output_type": "execute_result"
    }
   ],
   "source": [
    "loc = nkland.random_loc()\n",
    "loc, nkland.fitness(loc)"
   ]
  },
  {
   "cell_type": "markdown",
   "metadata": {},
   "source": [
    "Here's what the landscape cache looks like after one evaluation:"
   ]
  },
  {
   "cell_type": "code",
   "execution_count": 14,
   "metadata": {
    "collapsed": false
   },
   "outputs": [
    {
     "data": {
      "text/plain": [
       "{(0, (0, 0, 1)): 0.096,\n",
       " (1, (0, 1, 0)): 0.246,\n",
       " (2, (1, 0, 1)): 0.647,\n",
       " (3, (0, 1, 0)): 0.169,\n",
       " (4, (1, 0, 0)): 0.060}"
      ]
     },
     "execution_count": 14,
     "metadata": {},
     "output_type": "execute_result"
    }
   ],
   "source": [
    "nkland.cache"
   ]
  },
  {
   "cell_type": "markdown",
   "metadata": {},
   "source": [
    "If we evaluate the same location again, we should get the same value."
   ]
  },
  {
   "cell_type": "code",
   "execution_count": 15,
   "metadata": {
    "collapsed": false
   },
   "outputs": [
    {
     "data": {
      "text/plain": [
       "(array([0, 0, 1, 0, 1], dtype=int8), 0.243)"
      ]
     },
     "execution_count": 15,
     "metadata": {},
     "output_type": "execute_result"
    }
   ],
   "source": [
    "loc, nkland.fitness(loc)"
   ]
  },
  {
   "cell_type": "markdown",
   "metadata": {},
   "source": [
    "And if we evaluate a different location, we should get a different value."
   ]
  },
  {
   "cell_type": "code",
   "execution_count": 16,
   "metadata": {
    "collapsed": false
   },
   "outputs": [
    {
     "data": {
      "text/plain": [
       "(array([0, 1, 1, 1, 1], dtype=int8), 0.652)"
      ]
     },
     "execution_count": 16,
     "metadata": {},
     "output_type": "execute_result"
    }
   ],
   "source": [
    "loc = nkland.random_loc()\n",
    "loc, nkland.fitness(loc)"
   ]
  },
  {
   "cell_type": "markdown",
   "metadata": {},
   "source": [
    "## The agents\n",
    "\n",
    "Here's a parent class, `NKAgent`, that contains code used by all agents:"
   ]
  },
  {
   "cell_type": "code",
   "execution_count": 17,
   "metadata": {
    "collapsed": false
   },
   "outputs": [],
   "source": [
    "class NKAgent:\n",
    "    \"\"\"Represents an agent in an NK model.\"\"\"\n",
    "    \n",
    "    def __init__(self, landscape):\n",
    "        \"\"\"Create an agent at the given location.\n",
    "        \n",
    "        loc: array of N 0s and 1s\n",
    "        landscape: reference to an NKLandscape\n",
    "        \"\"\"\n",
    "        self.landscape = landscape\n",
    "        self.loc = landscape.random_loc()\n",
    "        self.fitness = landscape.fitness(self.loc)\n",
    "        self.moves = 0\n",
    "        self.done = False\n",
    "        \n",
    "    def mutation(self, direction):\n",
    "        \"\"\"Computes the location in the given direction.\n",
    "        \n",
    "        Result differs from the current location along the given axis.\n",
    "        \n",
    "        direction: int index from 0 to N-1\n",
    "        \n",
    "        returns: new array of N 0s and 1s\n",
    "        \"\"\"\n",
    "        new_loc = self.loc.copy()\n",
    "        new_loc[direction] ^= 1\n",
    "        return new_loc\n",
    "    \n",
    "    def generate_mutations(self):\n",
    "        \"\"\"Generates all possible mutations from current location, in random order.\n",
    "        \n",
    "        yields: new array of N 0s and 1s\n",
    "        \"\"\"\n",
    "        for direction in permutation(self.landscape.N):\n",
    "            new_loc = self.mutation(direction)\n",
    "            yield new_loc\n",
    "\n",
    "    def consider(self, new_loc):\n",
    "        \"\"\"Moves if the fitness at `new_loc` is greater than or equal to current fitness.\n",
    "        \n",
    "        new_loc: array of N 0s and 1s\n",
    "        \n",
    "        return: True if the agent moved\n",
    "        \"\"\"\n",
    "        new_fitness = self.landscape.fitness(new_loc)\n",
    "        if new_fitness >= self.fitness:\n",
    "            self.loc = new_loc\n",
    "            self.fitness = new_fitness\n",
    "            self.moves += 1\n",
    "            return True\n",
    "        return False\n",
    "    \n",
    "    def step(self):\n",
    "        \"\"\"Consider at least one mutation.\n",
    "        \n",
    "        Child classes should override this method.\n",
    "        \n",
    "        \"\"\"\n",
    "        pass"
   ]
  },
  {
   "cell_type": "markdown",
   "metadata": {},
   "source": [
    "Here's an example using the NKAgent parent class."
   ]
  },
  {
   "cell_type": "code",
   "execution_count": 18,
   "metadata": {
    "collapsed": false
   },
   "outputs": [
    {
     "data": {
      "text/plain": [
       "(array([1, 0, 0, 0, 1], dtype=int8), 0.455)"
      ]
     },
     "execution_count": 18,
     "metadata": {},
     "output_type": "execute_result"
    }
   ],
   "source": [
    "agent = NKAgent(nkland)\n",
    "agent.loc, agent.fitness"
   ]
  },
  {
   "cell_type": "markdown",
   "metadata": {},
   "source": [
    "We can choose a random direction."
   ]
  },
  {
   "cell_type": "code",
   "execution_count": 19,
   "metadata": {
    "collapsed": false
   },
   "outputs": [
    {
     "data": {
      "text/plain": [
       "array([1, 0, 0, 0, 0], dtype=int8)"
      ]
     },
     "execution_count": 19,
     "metadata": {},
     "output_type": "execute_result"
    }
   ],
   "source": [
    "direction = randint(nkland.N)\n",
    "new_loc = agent.mutation(direction)\n",
    "new_loc"
   ]
  },
  {
   "cell_type": "markdown",
   "metadata": {},
   "source": [
    "And consider moving."
   ]
  },
  {
   "cell_type": "code",
   "execution_count": 20,
   "metadata": {
    "collapsed": false
   },
   "outputs": [
    {
     "data": {
      "text/plain": [
       "True"
      ]
     },
     "execution_count": 20,
     "metadata": {},
     "output_type": "execute_result"
    }
   ],
   "source": [
    "agent.consider(new_loc)"
   ]
  },
  {
   "cell_type": "code",
   "execution_count": 21,
   "metadata": {
    "collapsed": false
   },
   "outputs": [
    {
     "data": {
      "text/plain": [
       "(array([1, 0, 0, 0, 0], dtype=int8), 0.484)"
      ]
     },
     "execution_count": 21,
     "metadata": {},
     "output_type": "execute_result"
    }
   ],
   "source": [
    "agent.loc, agent.fitness"
   ]
  },
  {
   "cell_type": "markdown",
   "metadata": {},
   "source": [
    "The following loop considers every direction, in random order, and accepts the first acceptable move."
   ]
  },
  {
   "cell_type": "code",
   "execution_count": 22,
   "metadata": {
    "collapsed": false
   },
   "outputs": [
    {
     "name": "stdout",
     "output_type": "stream",
     "text": [
      "[1 1 0 0 0] 0.584577233352\n",
      "[1 1 0 0 1] 0.676359255413\n"
     ]
    }
   ],
   "source": [
    "for direction in permutation(nkland.N):\n",
    "    new_loc = agent.mutation(direction)\n",
    "    if agent.consider(new_loc):\n",
    "        print(agent.loc, agent.fitness)"
   ]
  },
  {
   "cell_type": "markdown",
   "metadata": {},
   "source": [
    "Now we can encapsulate that strategy, called the \"fitter\" strategy, in a class:"
   ]
  },
  {
   "cell_type": "code",
   "execution_count": 23,
   "metadata": {
    "collapsed": false
   },
   "outputs": [],
   "source": [
    "class NKAgentFitter(NKAgent):\n",
    "    def step(self):\n",
    "        \"\"\"Consider all mutations in order and choose the first improvement.\"\"\"\n",
    "        if self.done:\n",
    "            return False\n",
    "        \n",
    "        for new_loc in self.generate_mutations():\n",
    "            if self.consider(new_loc):\n",
    "                return True\n",
    "            \n",
    "        self.done = True\n",
    "        return False"
   ]
  },
  {
   "cell_type": "code",
   "execution_count": 24,
   "metadata": {
    "collapsed": false
   },
   "outputs": [
    {
     "data": {
      "text/plain": [
       "(array([1, 1, 1, 1, 0], dtype=int8), 0.364)"
      ]
     },
     "execution_count": 24,
     "metadata": {},
     "output_type": "execute_result"
    }
   ],
   "source": [
    "agent = NKAgentFitter(nkland)\n",
    "agent.loc, agent.fitness"
   ]
  },
  {
   "cell_type": "code",
   "execution_count": 25,
   "metadata": {
    "collapsed": false
   },
   "outputs": [
    {
     "data": {
      "text/plain": [
       "True"
      ]
     },
     "execution_count": 25,
     "metadata": {},
     "output_type": "execute_result"
    }
   ],
   "source": [
    "agent.step()"
   ]
  },
  {
   "cell_type": "code",
   "execution_count": 17,
   "metadata": {
    "collapsed": false
   },
   "outputs": [
    {
     "data": {
      "text/plain": [
       "(array([1, 1, 1, 0, 1], dtype=int8), 0.546)"
      ]
     },
     "execution_count": 17,
     "metadata": {},
     "output_type": "execute_result"
    }
   ],
   "source": [
    "agent.loc, agent.fitness"
   ]
  },
  {
   "cell_type": "markdown",
   "metadata": {},
   "source": [
    "**Exercise:** Implement the other strategies described by Vidgen and Padget in [Sendero](http://jasss.soc.surrey.ac.uk/12/4/8.html)\n",
    "\n",
    "Write a class definition called `NKAgentMutant` that implements the one-mutant neighbor strategy and a class definition called `NKAgentGreedy` that implements the greedy strategy.  Instantiate one of each and invoke their step methods."
   ]
  },
  {
   "cell_type": "code",
   "execution_count": 27,
   "metadata": {
    "collapsed": true
   },
   "outputs": [],
   "source": [
    "class NKAgentMutant(NKAgent):\n",
    "    def step(self):\n",
    "        direction = np.random.randint(len(self.loc))\n",
    "        new_loc = self.mutation(direction)\n",
    "        return self.consider(new_loc)"
   ]
  },
  {
   "cell_type": "code",
   "execution_count": 28,
   "metadata": {
    "collapsed": true
   },
   "outputs": [],
   "source": [
    "# Note: looked up Allen's solution to get the sneaky way of handling getting the max with ties - rand()\n",
    "class NKAgentGreedy(NKAgent):\n",
    "    def step(self):\n",
    "        fitnesses = [(self.landscape.fitness(new_loc), rand(), new_loc)\n",
    "               for new_loc in self.generate_mutations()]\n",
    "        fitness, _, new_loc = max(fitnesses)\n",
    "        return self.consider(new_loc)"
   ]
  },
  {
   "cell_type": "markdown",
   "metadata": {},
   "source": [
    "## The simulator\n",
    "\n",
    "Here's a class that runs simulations:"
   ]
  },
  {
   "cell_type": "code",
   "execution_count": 29,
   "metadata": {
    "collapsed": false
   },
   "outputs": [],
   "source": [
    "class NKSimulation:\n",
    "    \n",
    "    def __init__(self, landscape, num_agents, agent_maker):\n",
    "        \"\"\"Create the simulation:\n",
    "        \n",
    "        landscape: NKLandscape\n",
    "        num_agents: int number of agents\n",
    "        agent_maker: function that makes agents\n",
    "        \"\"\"\n",
    "        self.landscape = landscape\n",
    "        self.agents = [agent_maker(landscape) for _ in range(num_agents)]\n",
    "        \n",
    "    def step(self):\n",
    "        \"\"\"Run step on each agent.\n",
    "        \n",
    "        returns: list of boolean, whether each agent moves\n",
    "        \"\"\"\n",
    "        return [agent.step() for agent in self.agents]\n",
    "        \n",
    "    def get_fitnesses(self):\n",
    "        \"\"\"Returns a list of agent fitnesses.\"\"\"\n",
    "        return [agent.fitness for agent in self.agents]\n",
    "    \n",
    "    def get_locations(self):\n",
    "        \"\"\"Returns a list of agent locations.\"\"\"\n",
    "        return [agent.loc for agent in self.agents]\n",
    "    \n",
    "    def get_peaks(self):\n",
    "        \"\"\"Returns the set of unique locations.\n",
    "        \n",
    "        If all agents have run until they reach a local peak,\n",
    "        the result is a subset of the peaks.\n",
    "        \"\"\"\n",
    "        locs = [tuple(loc) for loc in self.get_locations()]\n",
    "        return set(locs)\n",
    "\n",
    "    def get_peak_heights(self):\n",
    "        \"\"\"Returns the set of unique heights.\n",
    "        \n",
    "        If all agents have run until they reach a local peak,\n",
    "        the result is heights of a subset of the peaks.\n",
    "        \"\"\"\n",
    "        return set(self.get_fitnesses())\n",
    "    \n",
    "    def get_path_lengths(self):\n",
    "        \"\"\"Returns the number of moves for each agent.\n",
    "        \n",
    "        If all agents have run until they reach a local peak,\n",
    "        the result is the sequence of path lengths.\n",
    "        \"\"\"\n",
    "        return [agent.moves for agent in self.agents]"
   ]
  },
  {
   "cell_type": "markdown",
   "metadata": {},
   "source": [
    "And here's an example with small values of `N` and `K`.  Initially the distribution of fitness is centered around 0.5"
   ]
  },
  {
   "cell_type": "code",
   "execution_count": 30,
   "metadata": {
    "collapsed": false
   },
   "outputs": [
    {
     "data": {
      "text/plain": [
       "0.517"
      ]
     },
     "execution_count": 30,
     "metadata": {},
     "output_type": "execute_result"
    },
    {
     "data": {
      "image/png": "[encoded data removed]",
      "text/plain": [
       "<matplotlib.figure.Figure at 0x7f0a436a86d8>"
      ]
     },
     "metadata": {},
     "output_type": "display_data"
    }
   ],
   "source": [
    "nkl = NKLandscape(5, 2)\n",
    "nksim = NKSimulation(nkl, 100, NKAgentFitter)\n",
    "cdf_fitness = Cdf(nksim.get_fitnesses())\n",
    "thinkplot.Cdf(cdf_fitness)\n",
    "\n",
    "cdf_fitness.Mean()"
   ]
  },
  {
   "cell_type": "markdown",
   "metadata": {},
   "source": [
    "Here's how the distribution of fitness evolves after each step."
   ]
  },
  {
   "cell_type": "code",
   "execution_count": 31,
   "metadata": {
    "collapsed": false
   },
   "outputs": [
    {
     "data": {
      "image/png": "[encoded data removed]",
      "text/plain": [
       "<matplotlib.figure.Figure at 0x7f0a4369d9b0>"
      ]
     },
     "metadata": {},
     "output_type": "display_data"
    }
   ],
   "source": [
    "thinkplot.PrePlot(7)\n",
    "\n",
    "nksim = NKSimulation(nkl, 100, NKAgentFitter)\n",
    "\n",
    "for i in range(7):\n",
    "    cdf_fitness = Cdf(nksim.get_fitnesses())\n",
    "    thinkplot.Cdf(cdf_fitness)\n",
    "    nksim.step()"
   ]
  },
  {
   "cell_type": "markdown",
   "metadata": {},
   "source": [
    "After every agent has found a peak, we can plot the distribution of fitness."
   ]
  },
  {
   "cell_type": "code",
   "execution_count": 32,
   "metadata": {
    "collapsed": false
   },
   "outputs": [
    {
     "data": {
      "text/plain": [
       "{'xscale': 'linear', 'yscale': 'linear'}"
      ]
     },
     "execution_count": 32,
     "metadata": {},
     "output_type": "execute_result"
    },
    {
     "data": {
      "image/png": "[encoded data removed]",
      "text/plain": [
       "<matplotlib.figure.Figure at 0x7f0a40caaeb8>"
      ]
     },
     "metadata": {},
     "output_type": "display_data"
    }
   ],
   "source": [
    "cdf_fitness = Cdf(nksim.get_fitnesses())\n",
    "thinkplot.Cdf(cdf_fitness)"
   ]
  },
  {
   "cell_type": "markdown",
   "metadata": {},
   "source": [
    "The number of unique locations is a lower bound on the number of peaks."
   ]
  },
  {
   "cell_type": "code",
   "execution_count": 33,
   "metadata": {
    "collapsed": false
   },
   "outputs": [
    {
     "data": {
      "text/plain": [
       "3"
      ]
     },
     "execution_count": 33,
     "metadata": {},
     "output_type": "execute_result"
    }
   ],
   "source": [
    "peaks = nksim.get_peaks()\n",
    "len(peaks)"
   ]
  },
  {
   "cell_type": "markdown",
   "metadata": {},
   "source": [
    "And we can look at the heights of the peaks."
   ]
  },
  {
   "cell_type": "code",
   "execution_count": 34,
   "metadata": {
    "collapsed": false
   },
   "outputs": [
    {
     "data": {
      "text/plain": [
       "{0.512, 0.716, 0.739}"
      ]
     },
     "execution_count": 34,
     "metadata": {},
     "output_type": "execute_result"
    }
   ],
   "source": [
    "heights = nksim.get_peak_heights()\n",
    "heights"
   ]
  },
  {
   "cell_type": "markdown",
   "metadata": {},
   "source": [
    "Here's the distribution of path lengths.  A few agents are born on a peak.  The longest path is probably 5 or fewer."
   ]
  },
  {
   "cell_type": "code",
   "execution_count": 35,
   "metadata": {
    "collapsed": false
   },
   "outputs": [
    {
     "data": {
      "text/plain": [
       "{'xscale': 'linear', 'yscale': 'linear'}"
      ]
     },
     "execution_count": 35,
     "metadata": {},
     "output_type": "execute_result"
    },
    {
     "data": {
      "image/png": "[encoded data removed]",
      "text/plain": [
       "<matplotlib.figure.Figure at 0x7f0a40751630>"
      ]
     },
     "metadata": {},
     "output_type": "display_data"
    }
   ],
   "source": [
    "cdf_moves = Cdf(nksim.get_path_lengths())\n",
    "thinkplot.Cdf(cdf_moves)"
   ]
  },
  {
   "cell_type": "markdown",
   "metadata": {},
   "source": [
    "This function encapsulates the steps for running a simulation:"
   ]
  },
  {
   "cell_type": "code",
   "execution_count": 36,
   "metadata": {
    "collapsed": false
   },
   "outputs": [],
   "source": [
    "def run_simulation(N=5, K=2, num_agents=100, agent_maker=NKAgentFitter):\n",
    "    \"\"\"Create a simulation and run until all agents find a peak.\n",
    "    \n",
    "    N: int number of traits\n",
    "    K: int number of interactions\n",
    "    num_agents: int number of agents\n",
    "    agent_maker: function that creates agents\n",
    "    \n",
    "    returns NKSimulation object\n",
    "    \"\"\"\n",
    "    nkl = NKLandscape(N, K)\n",
    "    nksim = NKSimulation(nkl, num_agents, agent_maker)\n",
    "    for i in range(100):\n",
    "        steps = nksim.step()\n",
    "        if np.sum(steps) == 0:\n",
    "            break\n",
    "    return nksim"
   ]
  },
  {
   "cell_type": "markdown",
   "metadata": {},
   "source": [
    "Here's the same small example:"
   ]
  },
  {
   "cell_type": "code",
   "execution_count": 37,
   "metadata": {
    "collapsed": false
   },
   "outputs": [],
   "source": [
    "nksim = run_simulation(N=5, K=2)"
   ]
  },
  {
   "cell_type": "markdown",
   "metadata": {},
   "source": [
    "This function takes a completed simulation and summarizes the results."
   ]
  },
  {
   "cell_type": "code",
   "execution_count": 38,
   "metadata": {
    "collapsed": false
   },
   "outputs": [],
   "source": [
    "def plot_results(nksim):\n",
    "    \"\"\"Summarizes simulation results.\n",
    "    \n",
    "    nksim: NKSimulation object\n",
    "    \"\"\"\n",
    "    cdf_fitness = Cdf(nksim.get_fitnesses())\n",
    "    peaks = nksim.get_peaks()\n",
    "    heights = nksim.get_peak_heights()\n",
    "    cdf_moves = Cdf(nksim.get_path_lengths())\n",
    "    \n",
    "    print(\"Mean fitness: \", cdf_fitness.Mean())\n",
    "    print(\"Mean path length: \", cdf_moves.Mean())\n",
    "    print(\"Number of peaks:\", len(peaks))\n",
    "\n",
    "    thinkplot.PrePlot(cols=2)\n",
    "    thinkplot.Cdf(cdf_fitness)\n",
    "    thinkplot.Config(xlabel='Fitness', ylabel='CDF')\n",
    "\n",
    "    thinkplot.SubPlot(2)\n",
    "    thinkplot.Cdf(cdf_moves)\n",
    "    thinkplot.Config(xlabel='Path Length', ylabel='CDF')"
   ]
  },
  {
   "cell_type": "markdown",
   "metadata": {},
   "source": [
    "And here are the result with small values of `N` and `K`."
   ]
  },
  {
   "cell_type": "code",
   "execution_count": 39,
   "metadata": {
    "collapsed": false
   },
   "outputs": [
    {
     "name": "stdout",
     "output_type": "stream",
     "text": [
      "Mean fitness:  0.705399710222\n",
      "Mean path length:  2.22\n",
      "Number of peaks: 3\n"
     ]
    },
    {
     "data": {
      "image/png": "[encoded data removed]",
      "text/plain": [
       "<matplotlib.figure.Figure at 0x7f0a40cc3080>"
      ]
     },
     "metadata": {},
     "output_type": "display_data"
    }
   ],
   "source": [
    "plot_results(nksim)"
   ]
  },
  {
   "cell_type": "markdown",
   "metadata": {},
   "source": [
    "Here's a simulation run with larger `N` and `K`:"
   ]
  },
  {
   "cell_type": "code",
   "execution_count": 40,
   "metadata": {
    "collapsed": false
   },
   "outputs": [
    {
     "name": "stdout",
     "output_type": "stream",
     "text": [
      "CPU times: user 1.36 s, sys: 20 ms, total: 1.38 s\n",
      "Wall time: 1.38 s\n",
      "Mean fitness:  0.649954901228\n",
      "Mean path length:  6.78\n",
      "Number of peaks: 100\n"
     ]
    },
    {
     "data": {
      "image/png": "[encoded data removed]",
      "text/plain": [
       "<matplotlib.figure.Figure at 0x7f0a406fa6d8>"
      ]
     },
     "metadata": {},
     "output_type": "display_data"
    }
   ],
   "source": [
    "%time nksim = run_simulation(N=40, K=20)\n",
    "plot_results(nksim)"
   ]
  },
  {
   "cell_type": "markdown",
   "metadata": {},
   "source": [
    "**Exercise:** Starting with `N=5` and `K=3`, run simulations with increasing values of `N`, keeping `K` constant, and plot the number of peaks and mean path length as a function of `N`."
   ]
  },
  {
   "cell_type": "code",
   "execution_count": 55,
   "metadata": {
    "collapsed": false
   },
   "outputs": [],
   "source": [
    "# Solution\n",
    "\n",
    "K = 3\n",
    "res = []\n",
    "\n",
    "nVals = range(5,30)\n",
    "for N in nVals:\n",
    "    nksim = run_simulation(N, K)\n",
    "    num_peaks = len(nksim.get_peaks())\n",
    "    mean_path_length = np.mean(nksim.get_path_lengths())\n",
    "    res.append((num_peaks, mean_path_length))\n",
    "    \n",
    "peaks, paths = np.transpose(res)"
   ]
  },
  {
   "cell_type": "code",
   "execution_count": 56,
   "metadata": {
    "collapsed": false
   },
   "outputs": [
    {
     "data": {
      "image/png": "[encoded data removed]",
      "text/plain": [
       "<matplotlib.figure.Figure at 0x7f0a432006d8>"
      ]
     },
     "metadata": {},
     "output_type": "display_data"
    }
   ],
   "source": [
    "thinkplot.Plot(nVals, peaks)\n",
    "thinkplot.config(xlabel='N', ylabel='Avg Num Peaks')"
   ]
  },
  {
   "cell_type": "code",
   "execution_count": 57,
   "metadata": {
    "collapsed": false
   },
   "outputs": [
    {
     "data": {
      "image/png": "[encoded data removed]",
      "text/plain": [
       "<matplotlib.figure.Figure at 0x7f0a407c5e48>"
      ]
     },
     "metadata": {},
     "output_type": "display_data"
    }
   ],
   "source": [
    "thinkplot.Plot(nVals, paths)\n",
    "thinkplot.config(xlabel='N', ylabel='Avg Path Length')"
   ]
  },
  {
   "cell_type": "markdown",
   "metadata": {},
   "source": [
    "**Exercise:** Starting with `N=20` and `K=0`, run simulations with increasing values of `K`, keeping `N` constant, and plot the number of peaks and mean path length as a function of `K`."
   ]
  },
  {
   "cell_type": "code",
   "execution_count": 58,
   "metadata": {
    "collapsed": true
   },
   "outputs": [],
   "source": [
    "N = 20\n",
    "res = []\n",
    "\n",
    "kVals = range(0, 30)\n",
    "\n",
    "for K in kVals:\n",
    "    nksim = run_simulation(N, K)\n",
    "    num_peaks = len(nksim.get_peaks())\n",
    "    mean_path_length = np.mean(nksim.get_path_lengths())\n",
    "    res.append((num_peaks, mean_path_length))\n",
    "\n",
    "peaks, paths = np.transpose(res)"
   ]
  },
  {
   "cell_type": "code",
   "execution_count": 59,
   "metadata": {
    "collapsed": false
   },
   "outputs": [
    {
     "data": {
      "image/png": "[encoded data removed]",
      "text/plain": [
       "<matplotlib.figure.Figure at 0x7f0a38192278>"
      ]
     },
     "metadata": {},
     "output_type": "display_data"
    }
   ],
   "source": [
    "thinkplot.Plot(kVals, peaks)\n",
    "thinkplot.config(xlabel='N', ylabel='Avg Num Peaks')"
   ]
  },
  {
   "cell_type": "code",
   "execution_count": 60,
   "metadata": {
    "collapsed": false
   },
   "outputs": [
    {
     "data": {
      "image/png": "[encoded data removed]",
      "text/plain": [
       "<matplotlib.figure.Figure at 0x7f0a407975c0>"
      ]
     },
     "metadata": {},
     "output_type": "display_data"
    }
   ],
   "source": [
    "thinkplot.Plot(kVals, paths)\n",
    "thinkplot.config(xlabel='N', ylabel='Path Length')"
   ]
  },
  {
   "cell_type": "code",
   "execution_count": null,
   "metadata": {
    "collapsed": true
   },
   "outputs": [],
   "source": []
  }
 ],
 "metadata": {
  "anaconda-cloud": {},
  "kernelspec": {
   "display_name": "Python [Root]",
   "language": "python",
   "name": "Python [Root]"
  },
  "language_info": {
   "codemirror_mode": {
    "name": "ipython",
    "version": 3
   },
   "file_extension": ".py",
   "mimetype": "text/x-python",
   "name": "python",
   "nbconvert_exporter": "python",
   "pygments_lexer": "ipython3",
   "version": "3.5.2"
  }
 },
 "nbformat": 4,
 "nbformat_minor": 0
}
